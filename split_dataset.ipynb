{
 "cells": [
  {
   "cell_type": "code",
   "execution_count": null,
   "id": "573e89cf",
   "metadata": {},
   "outputs": [],
   "source": [
    "import os\n",
    "import shutil\n",
    "import random\n",
    "from glob import glob\n",
    "\n",
    "image_dirs = [\n",
    "    \"C:/INTERNSHIP/project/datasets/lisa/daySequence1/frames\",\n",
    "    \"C:/INTERNSHIP/project/datasets/lisa/daySequence2/frames\",\n",
    "    \"C:/INTERNSHIP/project/datasets/lisa/nightSequence1/frames\",\n",
    "    \"C:/INTERNSHIP/project/datasets/lisa/nightSequence2/frames\"\n",
    "] + [\n",
    "    f\"C:/INTERNSHIP/project/datasets/lisa/dayTrain/dayClip{i}/frames\" for i in range(1, 14)\n",
    "] + [\n",
    "    f\"C:/INTERNSHIP/project/datasets/lisa/nightTrain/nightClip{i}/frames\" for i in range(1, 6)\n",
    "]\n",
    "\n",
    "train_dir = \"C:/INTERNSHIP/project/traffic_light_data/images/train\"\n",
    "val_dir = \"C:/INTERNSHIP/project/traffic_light_data/images/val\"\n",
    "\n",
    "os.makedirs(train_dir, exist_ok=True)\n",
    "os.makedirs(val_dir, exist_ok=True)\n",
    "\n",
    "all_images = []\n",
    "for path in image_dirs:\n",
    "    all_images.extend(glob(os.path.join(path, \"*.jpg\")))\n",
    "\n",
    "print(f\"🖼 Total images found: {len(all_images)}\")\n",
    "\n",
    "random.seed(42)\n",
    "random.shuffle(all_images)\n",
    "split_index = int(0.7 * len(all_images))\n",
    "train_images = all_images[:split_index]\n",
    "val_images = all_images[split_index:]\n",
    "\n",
    "for img in train_images:\n",
    "    shutil.copy(img, os.path.join(train_dir, os.path.basename(img)))\n",
    "for img in val_images:\n",
    "    shutil.copy(img, os.path.join(val_dir, os.path.basename(img)))\n",
    "\n",
    "print(f\"Done: {len(train_images)} training images, {len(val_images)} validation images.\")\n"
   ]
  },
  {
   "cell_type": "code",
   "execution_count": null,
   "id": "b0d3daba",
   "metadata": {},
   "outputs": [],
   "source": []
  }
 ],
 "metadata": {
  "kernelspec": {
   "display_name": ".venv",
   "language": "python",
   "name": "python3"
  },
  "language_info": {
   "name": "python",
   "version": "3.11.9"
  }
 },
 "nbformat": 4,
 "nbformat_minor": 5
}
