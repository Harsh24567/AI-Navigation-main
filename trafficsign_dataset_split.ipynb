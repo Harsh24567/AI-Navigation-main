{
 "cells": [
  {
   "cell_type": "code",
   "execution_count": null,
   "id": "f0be262d",
   "metadata": {},
   "outputs": [],
   "source": [
    "import os\n",
    "import shutil\n",
    "import random\n",
    "\n",
    "base_path = \"C:/INTERNSHIP/traffic_light_detection/datasets/TrafficSign\"\n",
    "original_images_path = os.path.join(base_path, \"original_images\")\n",
    "train_img_dir = os.path.join(base_path, \"train/images\")\n",
    "train_ann_dir = os.path.join(base_path, \"train/annotations\")\n",
    "val_img_dir = os.path.join(base_path, \"val/images\")\n",
    "val_ann_dir = os.path.join(base_path, \"val/annotations\")\n",
    "\n",
    "for folder in [train_img_dir, train_ann_dir, val_img_dir, val_ann_dir]:\n",
    "    os.makedirs(folder, exist_ok=True)\n",
    "\n",
    "all_images = [f for f in os.listdir(original_images_path) if f.endswith(\".jpg\")]\n",
    "all_images.sort()\n",
    "random.shuffle(all_images)\n",
    "\n",
    "split_idx = int(0.7 * len(all_images))\n",
    "train_files = all_images[:split_idx]\n",
    "val_files = all_images[split_idx:]\n",
    "\n",
    "def move_data(image_list, img_dst, ann_dst):\n",
    "    for img_file in image_list:\n",
    "        xml_file = img_file.replace(\".jpg\", \".xml\")\n",
    "        src_img = os.path.join(original_images_path, img_file)\n",
    "        src_xml = os.path.join(original_images_path, xml_file)\n",
    "\n",
    "        if not os.path.exists(src_xml):\n",
    "            print(f\"⚠️ Annotation not found for: {img_file}\")\n",
    "            continue\n",
    "\n",
    "        shutil.copy(src_img, os.path.join(img_dst, img_file))\n",
    "        shutil.copy(src_xml, os.path.join(ann_dst, xml_file))\n",
    "\n",
    "move_data(train_files, train_img_dir, train_ann_dir)\n",
    "move_data(val_files, val_img_dir, val_ann_dir)\n",
    "\n",
    "print(f\"\\n Done. Split {len(all_images)} files → Train: {len(train_files)} | Val: {len(val_files)}\")\n"
   ]
  }
 ],
 "metadata": {
  "language_info": {
   "name": "python"
  }
 },
 "nbformat": 4,
 "nbformat_minor": 5
}
